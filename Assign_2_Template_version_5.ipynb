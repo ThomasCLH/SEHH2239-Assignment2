{
  "cells": [
    {
      "cell_type": "markdown",
      "metadata": {
        "id": "_ttZLeUpzcdU"
      },
      "source": [
        "#SEHH2239 2022/2023 Semester 2\n",
        "#Assignment 2\n",
        "--- \n",
        "1.   Student name:\n",
        "2.   Student ID:\n",
        "3.   Course code: SEHH2239\n",
        "4.   Course name: Data Structures\n",
        "5.   Class: \n",
        "6.   Date:\n"
      ]
    },
    {
      "cell_type": "markdown",
      "metadata": {
        "id": "5XyFo6bIE_FB"
      },
      "source": [
        "#Declaration of Original Work\n",
        "\n",
        "\n",
        "\n",
        "---\n",
        "\n",
        "\n",
        "By submitting the answer script of this assignment to the subject lecturer through Moodle Centralized Group, you hereby declare that the work in the answer sheet is completely your own work.  No part of the answer sheet is taken from other people’s work without giving them credit.  All references have been clearly cited.\n",
        "\n",
        "You understand that an infringement of this declaration leaves you subject to disciplinary actions such as mark deduction, disqualification or even expulsion by the College. \n",
        "\n",
        "If necessary, students may be invited to provide more information on their submission. "
      ]
    },
    {
      "cell_type": "markdown",
      "metadata": {
        "id": "wjJ3eoTwd9nO"
      },
      "source": [
        "---\n",
        "# Question 1\n",
        "\n",
        "### Question 1(a)"
      ]
    },
    {
      "cell_type": "code",
      "execution_count": null,
      "metadata": {
        "id": "nErnFM9MdWeP"
      },
      "outputs": [],
      "source": [
        "class Stack:\n",
        "    # Write your code for Question 1(a) here\n",
        "    def __init__(self) :\n",
        "        pass\n",
        "        # implement a stack using list\n",
        "\n",
        "    def clear(self):\n",
        "        pass\n",
        "        # clear the stack \n",
        "\n",
        "    def isEmpty(self):\n",
        "        pass\n",
        "        # Check if the stack is empty\n",
        "        # return True if the stack is empty\n",
        "        # otherwise return False\n",
        "\n",
        "    def push(self, data):\n",
        "        pass\n",
        "        # Put data on the top of the stack\n",
        "\n",
        "    def pop(self):\n",
        "        pass\n",
        "        # Take the topmost data from the stack and return it\n",
        "        # if the stack is empty, return None\n",
        "\n",
        "    def peek(self):\n",
        "        pass\n",
        "        # Return the topmost data in the stack\n",
        "        # without removing it\n",
        "        # if the stack is empty, return None\n",
        "\n",
        "    def display(self):\n",
        "        pass\n",
        "        # show all the data in the stack\n"
      ]
    },
    {
      "cell_type": "markdown",
      "metadata": {
        "id": "LGYOT2Tgepf_"
      },
      "source": [
        "### Question 1(b)\n"
      ]
    },
    {
      "cell_type": "code",
      "execution_count": null,
      "metadata": {
        "id": "Wmp9mm_-er95"
      },
      "outputs": [],
      "source": [
        "class Student:\n",
        "    def __init__(self,name,score):\n",
        "        self.name = name\n",
        "        self.score = score\n",
        "    def __str__(self):\n",
        "        return f\"{self.name}:{self.score}\"\n",
        "    def __repr__(self):\n",
        "        return str(self)\n",
        "    def __eq__(self,other):\n",
        "        return (self.score == other.score and self.name == other.name)\n",
        "    def __gt__(self,other):\n",
        "        if (self.score == other.score):\n",
        "            return self.name > other.name\n",
        "        else:\n",
        "            return self.score > other.score\n",
        "    def __lt__(self,other):\n",
        "        if (self.score == other.score):\n",
        "            return self.name < other.name\n",
        "        else:\n",
        "            return self.score < other.score\n",
        "    def __ge__(self,other):\n",
        "        return (not self < other)\n",
        "    def __le__(self,other):\n",
        "        return (not self > other)"
      ]
    },
    {
      "cell_type": "code",
      "execution_count": null,
      "metadata": {
        "id": "bdlOXPaTfUzi"
      },
      "outputs": [],
      "source": [
        "class StackSort:\n",
        "    # Write your code for Question 1(b) here\n",
        "    def __init__(self,data):\n",
        "        pass\n",
        "        # define two Stack\n",
        "        # the first Stack contains all the elements in data\n",
        "        # and the second Stack left empty\n",
        "\n",
        "    def sort(self):\n",
        "        pass\n",
        "        # sort the elements in the first Stack as follows:\n",
        "        # While the first Stack is not empty, do this:\n",
        "        # - Pop an element from the first Stack and call it temp\n",
        "        # - While the second Stack is not empty and\n",
        "        #   top of the second stack is greater than temp:\n",
        "        #     - Pop from the second Stack and\n",
        "        #       push it to the first Stack\n",
        "        # - Push temp to the second Stack\n",
        "        # the sorted elements are in second Stack\n",
        "\n",
        "    def display(self):\n",
        "        pass\n",
        "        # show the data in two Stacks"
      ]
    },
    {
      "cell_type": "markdown",
      "metadata": {
        "id": "zpI-hkktfz_u"
      },
      "source": [
        "### Question 1(c)\n",
        "\n",
        "Testing code for part (c): *(run the code cell below to generate outputs, do not alter the code in the cell)*"
      ]
    },
    {
      "cell_type": "code",
      "execution_count": null,
      "metadata": {
        "id": "dGi7rKAFgDuI"
      },
      "outputs": [],
      "source": [
        "data = [Student(\"May\",85),Student(\"Peter\",30),Student(\"Louis\",90),\n",
        "Student(\"Frankie\",30),Student(\"Ron\",74)]\n",
        "stackSort = StackSort(data)\n",
        "print(\"Before stack sort:\")\n",
        "stackSort.display()\n",
        "stackSort.sort()\n",
        "print(\"After stack sort:\")\n",
        "stackSort.display()"
      ]
    },
    {
      "cell_type": "markdown",
      "metadata": {
        "id": "7urpCXxpgGfo"
      },
      "source": [
        "### Provide **THREE** more testing cases for question 1(c)"
      ]
    },
    {
      "cell_type": "code",
      "execution_count": null,
      "metadata": {
        "id": "shxIgqP8gX-W"
      },
      "outputs": [],
      "source": [
        "# Write your testing code for Question 1(c) here\n"
      ]
    },
    {
      "cell_type": "markdown",
      "metadata": {
        "id": "Xj8f5nHigtWE"
      },
      "source": [
        "### Question 1(d)\n",
        "\n",
        "*Put down your answer for Question 1(d) here*\n",
        "\n",
        "Double-click (or enter) to edit"
      ]
    },
    {
      "cell_type": "markdown",
      "metadata": {
        "id": "FUG-yy1yd9Q1"
      },
      "source": [
        "---\n",
        "# Question 2\n",
        "\n",
        "### Question 2(a)\n",
        "*Put down your answer for Question 2(a) here*\n",
        "\n",
        "Double-click (or enter) to edit\n",
        "\n",
        "\\begin{array}{|c|c|} \\hline\n",
        "Index & Value \\\\ \\hline\n",
        "0 & Empty \\\\ \\hline\n",
        "1 & Empty \\\\ \\hline\n",
        "2 & Empty \\\\ \\hline\n",
        "3 & Empty \\\\ \\hline\n",
        "4 & Empty \\\\ \\hline\n",
        "5 & Empty \\\\ \\hline\n",
        "6 & Empty \\\\ \\hline\n",
        "7 & Empty \\\\ \\hline\n",
        "8 & Empty \\\\ \\hline\n",
        "\\end{array}\n"
      ]
    },
    {
      "cell_type": "markdown",
      "metadata": {
        "id": "qyHbr0h2l5wk"
      },
      "source": [
        "### Question 2(b)\n",
        "*Put down your answer for Question 2(b) here*\n",
        "\n",
        "Double-click (or enter) to edit\n",
        "\n",
        "\\begin{array}{|c|c|} \\hline\n",
        "Index & Value \\\\ \\hline\n",
        "0 & Empty \\\\ \\hline\n",
        "1 & Empty \\\\ \\hline\n",
        "2 & Empty \\\\ \\hline\n",
        "3 & Empty \\\\ \\hline\n",
        "4 & Empty \\\\ \\hline\n",
        "5 & Empty \\\\ \\hline\n",
        "6 & Empty \\\\ \\hline\n",
        "7 & Empty \\\\ \\hline\n",
        "8 & Empty \\\\ \\hline\n",
        "\\end{array}"
      ]
    },
    {
      "cell_type": "markdown",
      "metadata": {
        "id": "YHeKO-B8mA61"
      },
      "source": [
        "### Question 2(c)\n",
        "*Put down your answer for Question 2(c) here*\n",
        "\n",
        "Double-click (or enter) to edit"
      ]
    },
    {
      "cell_type": "markdown",
      "metadata": {
        "id": "Yg2PdrP1VPHX"
      },
      "source": [
        "\n",
        "\n",
        "---\n",
        "\n",
        "\n",
        "# Provided Classes (for Questions 3 & 4)"
      ]
    },
    {
      "cell_type": "markdown",
      "metadata": {
        "id": "CKfyTMukWQQ-"
      },
      "source": [
        "### Run the following code block to define some classes before running other code"
      ]
    },
    {
      "cell_type": "code",
      "execution_count": null,
      "metadata": {
        "id": "2B8UlacQVSMn"
      },
      "outputs": [],
      "source": [
        "class LLNode:\n",
        "    def __init__(self, element=None, node=None):\n",
        "        self.element = element\n",
        "        self.next = node\n",
        "\n",
        "class SLinkedList:\n",
        "    def __init__(self):\n",
        "        self.head = None\n",
        "\n",
        "    def listprint(self):\n",
        "        p = self.head\n",
        "        while p is not None:\n",
        "            print(p.element)\n",
        "            p = p.next\n",
        "    \n",
        "    def isEmpty(self):\n",
        "        return self.head is None\n",
        "    \n",
        "    def size(self):\n",
        "        size = 0\n",
        "        p = self.head\n",
        "        while p is not None:\n",
        "            size += 1\n",
        "            p = p.next\n",
        "        return size\n",
        "\n",
        "    def get(self, index):\n",
        "        p = self.head\n",
        "        i = 0\n",
        "        while p is not None and i < index:\n",
        "            p = p.next\n",
        "            i += 1\n",
        "        if p is not None:\n",
        "            return p.element\n",
        "        else:   # index >= self.size()\n",
        "            return None\n",
        "    \n",
        "    def indexOf(self, element):\n",
        "        p = self.head\n",
        "        i = 0\n",
        "        while p is not None and p.element != element:\n",
        "            p = p.next\n",
        "            i += 1\n",
        "        if p is not None:\n",
        "            return i\n",
        "        else:\n",
        "            return -1\n",
        "    \n",
        "    def addAtHead(self, element):\n",
        "        self.head = LLNode(element, self.head)\n",
        "    \n",
        "    def addAtTail(self, element):\n",
        "        if self.head is None:\n",
        "            self.head = LLNode(element)\n",
        "        else:\n",
        "            p = self.head\n",
        "            while p.next is not None:\n",
        "                p = p.next\n",
        "            p.next = LLNode(element)\n",
        "    \n",
        "    def add(self, index, element):\n",
        "        if index == 0:\n",
        "            self.addAtHead(element)\n",
        "        else:\n",
        "            p = self.head\n",
        "            i = 0\n",
        "            while p is not None and i < index - 1:\n",
        "                p = p.next\n",
        "                i += 1\n",
        "            \n",
        "            # The following statement will raise an error if index > self.size()\n",
        "            p.next = LLNode(element, p.next)\n",
        "\n",
        "    def remove(self, index):\n",
        "        if self.isEmpty():\n",
        "            return None\n",
        "        if index == 0:\n",
        "            element = self.head.element\n",
        "            self.head = self.head.next\n",
        "            return element\n",
        "        else:\n",
        "            p = self.head\n",
        "            i = 0\n",
        "            while p is not None and i < index:\n",
        "                prev = p\n",
        "                p = p.next\n",
        "                i += 1\n",
        "\n",
        "            if p is None:\n",
        "                return None\n",
        "            \n",
        "            element = p.element\n",
        "            prev.next = p.next\n",
        "            return element\n",
        "    \n",
        "    def removeNode(self, element):\n",
        "        if self.isEmpty():\n",
        "            return None\n",
        "        p = self.head\n",
        "        if p.element == element:\n",
        "            self.head = p.next\n",
        "        else:\n",
        "            while p is not None and p.element != element:\n",
        "                prev = p\n",
        "                p = p.next\n",
        "            if p is not None:\n",
        "                prev.next = p.next\n",
        "\n",
        "class BSTNode:\n",
        "    def __init__(self, key, data):\n",
        "        self.left = None\n",
        "        self.right = None\n",
        "        self.key = key\n",
        "        self.data = data\n",
        "\n",
        "    # A utility function to search a given key in BST\n",
        "    def get(self, key):\n",
        "        p = self\n",
        "\n",
        "        while p is not None:\n",
        "            if p.key < key:\n",
        "                p = p.right\n",
        "            elif p.key > key:\n",
        "                p = p.left\n",
        "            else:\n",
        "                return p.data\n",
        "\n",
        "        # no matching key\n",
        "        return None\n",
        "\n",
        "    def put(self, key, data):\n",
        "        # Compare the new value with the parent node\n",
        "        if self.key:\n",
        "            if key < self.key:\n",
        "                if self.left is None:\n",
        "                    self.left = BSTNode(key, data)\n",
        "                else:\n",
        "                    self.left.put(key, data)\n",
        "            elif key > self.key:\n",
        "                if self.right is None:\n",
        "                    self.right = BSTNode(key, data)\n",
        "                else:\n",
        "                    self.right.put(key, data)\n",
        "        else:\n",
        "            self.key = key\n",
        "            self.data = data\n",
        "\n",
        "    # To find the inorder successor which is the smallest node in the subtree\n",
        "    def findsuccessor(self, node):\n",
        "        current_node = node\n",
        "        while current_node.left is not None:\n",
        "            current_node = current_node.left\n",
        "        return current_node\n",
        "\n",
        "    def remove(self, root, key):\n",
        "        # Base Case\n",
        "        if root is None:\n",
        "            return root\n",
        "\n",
        "        # If the key to be deleted is smaller than the root's key then it lies in left subtree\n",
        "        if key < root.key:\n",
        "            root.left = self.remove(root.left, key)\n",
        "\n",
        "        # If the kye to be delete is greater than the root's key then it lies in right subtree\n",
        "        elif key > root.key:\n",
        "            root.right = self.remove(root.right, key)\n",
        "\n",
        "        # If key is same as root's key, then this is the node to be deleted\n",
        "        else:\n",
        "            # Node with only one child or no child\n",
        "            if root.left is None:\n",
        "                temp = root.right\n",
        "                root = None\n",
        "                return temp\n",
        "\n",
        "            elif root.right is None:\n",
        "                temp = root.left\n",
        "                root = None\n",
        "                return temp\n",
        "\n",
        "            # Node with two children:\n",
        "            # Get the inorder successor (smallest in the right subtree)\n",
        "            temp = self.findsuccessor(root.right)\n",
        "\n",
        "            # Copy the inorder successor's content to this node\n",
        "            root.key = temp.key\n",
        "            root.data = temp.data   # copy by assignment\n",
        "\n",
        "            # Delete the inorder successor\n",
        "            root.right = self.remove(root.right, temp.key)\n",
        "\n",
        "        return root\n",
        "\n",
        "    # Print the tree\n",
        "    def PrintTree(self):\n",
        "        if self.left:\n",
        "            self.left.PrintTree()\n",
        "        print(self.key, self.data),\n",
        "        if self.right:\n",
        "            self.right.PrintTree()"
      ]
    },
    {
      "cell_type": "markdown",
      "metadata": {
        "id": "iJzytP6lFfEp"
      },
      "source": [
        "\n",
        "\n",
        "---\n",
        "\n",
        "\n",
        "# Question 3"
      ]
    },
    {
      "cell_type": "markdown",
      "metadata": {
        "id": "ivN9cS2UW75O"
      },
      "source": [
        "### Question 3(a)"
      ]
    },
    {
      "cell_type": "code",
      "execution_count": null,
      "metadata": {
        "id": "qT-NVxyattVN"
      },
      "outputs": [],
      "source": [
        "import re"
      ]
    },
    {
      "cell_type": "code",
      "execution_count": null,
      "metadata": {
        "id": "_OqV_S5r9jKJ"
      },
      "outputs": [],
      "source": [
        "class Student:\n",
        "    # Write your code for Question 3(a) here\n",
        "    pass"
      ]
    },
    {
      "cell_type": "markdown",
      "metadata": {
        "id": "4gEn07m_Wttu"
      },
      "source": [
        "**Testing code for part (a)**: (run the code cell below to generate outputs, do not alter the code in the cell)"
      ]
    },
    {
      "cell_type": "code",
      "execution_count": null,
      "metadata": {
        "id": "nnd1LwVG9zIQ"
      },
      "outputs": [],
      "source": [
        "student1 = Student('Dear Jane', '21666666A')\n",
        "student2 = Student('Ka Yan 9896', '21009896A')\n",
        "student3 = Student('Dear Jane', '21666666A')\n",
        "try:\n",
        "    Student('Quit gambling', '1834633')\n",
        "except Exception as e:\n",
        "    print(e)\n",
        "print(student1)\n",
        "print(student2)\n",
        "print(student1 == student2)\n",
        "print(student1 == student3)\n",
        "try:\n",
        "    print(student1 == 'Dear Jane')\n",
        "except Exception as e:\n",
        "    print(e)"
      ]
    },
    {
      "cell_type": "markdown",
      "metadata": {
        "id": "9gCjFxPa_c4S"
      },
      "source": [
        "### Question 3(b)"
      ]
    },
    {
      "cell_type": "code",
      "execution_count": null,
      "metadata": {
        "id": "y_nwZ-lWXIy2"
      },
      "outputs": [],
      "source": [
        "class Registry:\n",
        "    def __init__(self):\n",
        "        self.BSTList = [None] * 10   # List of 10 BSTs\n",
        "    \n",
        "    # Question 3(b)\n",
        "    def add_student(self, name, studentid):\n",
        "        # Write your code for Question 3(b) here\n",
        "        pass\n",
        "    \n",
        "    # The following function is provided\n",
        "    def print_students(self):\n",
        "        for i, BST in enumerate(self.BSTList):\n",
        "            if BST is not None:\n",
        "                print(f'Students with ID ended with {i}:')\n",
        "                BST.PrintTree()"
      ]
    },
    {
      "cell_type": "markdown",
      "metadata": {
        "id": "y3pLfBrqGLhd"
      },
      "source": [
        "**Testing code for part (b)**: (run the code cell below to generate outputs, do not alter the code in the cell)"
      ]
    },
    {
      "cell_type": "code",
      "execution_count": null,
      "metadata": {
        "id": "QSKNFeuFX1ZF"
      },
      "outputs": [],
      "source": [
        "student_records = [\n",
        "    {'name': 'Chan Ka Yi', 'studentid': '21123456A'},\n",
        "    {'name': 'So Fun Nei', 'studentid': '21888888A'},\n",
        "    {'name': 'Ngor Mo Chin', 'studentid': '21654321A'}\n",
        "]\n",
        "\n",
        "registry = Registry()\n",
        "for student_record in student_records:\n",
        "    registry.add_student(**student_record)\n",
        "print()\n",
        "registry.add_student('SC Storage', '81777778')\n",
        "print()\n",
        "registry.add_student(**student_records[0])\n",
        "print()\n",
        "registry.print_students()"
      ]
    },
    {
      "cell_type": "markdown",
      "metadata": {
        "id": "KVE3sgXKGUFA"
      },
      "source": [
        "\n",
        "\n",
        "---\n",
        "\n",
        "# Question 4"
      ]
    },
    {
      "cell_type": "markdown",
      "metadata": {
        "id": "hDcORVPtYmxm"
      },
      "source": [
        "### Question 4(a)"
      ]
    },
    {
      "cell_type": "code",
      "execution_count": null,
      "metadata": {
        "id": "r_VwAdET-HyQ"
      },
      "outputs": [],
      "source": [
        "class Student:\n",
        "    pass\n",
        "    # Write your code for Question 4(a) here"
      ]
    },
    {
      "cell_type": "markdown",
      "metadata": {
        "id": "WQdJ8jZOZkD2"
      },
      "source": [
        "**Testing code for part (a)**: (run the code cell below to generate outputs, do not alter the code in the cell)"
      ]
    },
    {
      "cell_type": "code",
      "execution_count": null,
      "metadata": {
        "id": "JMJXKCDvZlKe"
      },
      "outputs": [],
      "source": [
        "student1 = Student(\"Black Pink\", \"21732534A\")\n",
        "student1._courselist.addAtTail(\"SEHH2239\")\n",
        "student1._courselist.addAtTail(\"SEHH2240\")\n",
        "student1._courselist.listprint()"
      ]
    },
    {
      "cell_type": "markdown",
      "metadata": {
        "id": "27BS1oMkZs7m"
      },
      "source": [
        "### Question 4(b)"
      ]
    },
    {
      "cell_type": "code",
      "execution_count": null,
      "metadata": {
        "id": "Cnszx-4h_CSM"
      },
      "outputs": [],
      "source": [
        "class Registry2(Registry):\n",
        "    def __init__(self):\n",
        "        super().__init__()\n",
        "    \n",
        "    # Question 4(b)\n",
        "    def add_course(self, studentid, course):\n",
        "        pass\n",
        "        # Write your code for Question 4(b) here\n",
        " \n",
        "    # The following function is provided\n",
        "    def print_courses(self, studentid):\n",
        "        if not isinstance(studentid, str):\n",
        "            raise TypeError('Invalid input type')\n",
        "        if re.fullmatch('[0-9]{8}A', studentid) is None:\n",
        "            raise ValueError(f'Invalid student id {studentid}')\n",
        "\n",
        "        tree_id = int(studentid[-2])\n",
        "        BST = self.BSTList[tree_id]\n",
        "        student = BST.get(studentid) if BST is not None else None\n",
        "        if student is None:\n",
        "            print(f'{studentid} not a registered student')\n",
        "            return\n",
        "        else:\n",
        "            print(f'{student.name} {student.studentid} enrolled these courses:')\n",
        "            student._courselist.listprint()"
      ]
    },
    {
      "cell_type": "markdown",
      "metadata": {
        "id": "iMzixhuxaSW2"
      },
      "source": [
        "**Testing code for part (b):** (run the code cell below to generate outputs, do not alter the code in the cell)"
      ]
    },
    {
      "cell_type": "code",
      "execution_count": null,
      "metadata": {
        "id": "lJ_aV1iDaU_O"
      },
      "outputs": [],
      "source": [
        "student_records = [\n",
        "    {'name': 'Chan Ka Yi', 'studentid': '21123456A'},\n",
        "    {'name': 'So Fun Nei', 'studentid': '21888888A'},\n",
        "    {'name': 'Ngor Mo Chin', 'studentid': '21654321A'}\n",
        "]\n",
        "\n",
        "course_records = [\n",
        "    {'studentid': '21123456A', 'course': 'SEHH2239'},\n",
        "    {'studentid': '21888888A', 'course': 'SEHH2239'},\n",
        "    {'studentid': '21654321A', 'course': 'SEHH2240'},\n",
        "    {'studentid': '21654321A', 'course': 'SEHH2241'},\n",
        "]\n",
        "\n",
        "registry = Registry2()\n",
        "for student_record in student_records:\n",
        "    registry.add_student(**student_record)\n",
        "print()\n",
        "\n",
        "for course_record in course_records:\n",
        "    registry.add_course(**course_record)\n",
        "\n",
        "print()\n",
        "registry.add_course('XDJCNDEG', 'Random string')\n",
        "registry.add_course('23000000A', 'Pizza Hut Hotline')\n",
        "registry.add_course(**course_records[0])\n",
        "\n",
        "print()\n",
        "registry.print_courses('21654321A')"
      ]
    },
    {
      "cell_type": "markdown",
      "metadata": {
        "id": "01w9VGXUaANF"
      },
      "source": [
        "### Question 4(c)"
      ]
    },
    {
      "cell_type": "markdown",
      "metadata": {
        "id": "xs1O0SVtaCdO"
      },
      "source": [
        "(i) *Put down your answer for Question 4(c)(i) here*\n",
        "\n",
        "(ii) *Put down your answer for Question 4(c)(ii) here*\n",
        "\n",
        "Double-click (or enter) to edit"
      ]
    },
    {
      "cell_type": "markdown",
      "metadata": {
        "id": "sJpPVVoLa7Re"
      },
      "source": [
        "---\n",
        "<font size=\"5\" color='red'>When you finish the assignment:</font>\n",
        "* Click [Runtime -> Restart and run all] to regenerate all outputs\n",
        "* Click [File -> Download -> Download .ipynb]\n",
        "* Click [File -> Print -> Save as PDF]\n",
        "* Follow the instructions on the question paper to submit both files"
      ]
    }
  ],
  "metadata": {
    "colab": {
      "provenance": []
    },
    "kernelspec": {
      "display_name": "Python 3",
      "name": "python3"
    },
    "language_info": {
      "name": "python"
    }
  },
  "nbformat": 4,
  "nbformat_minor": 0
}
