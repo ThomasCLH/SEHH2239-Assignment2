{
  "nbformat": 4,
  "nbformat_minor": 0,
  "metadata": {
    "colab": {
      "provenance": []
    },
    "kernelspec": {
      "name": "python3",
      "display_name": "Python 3"
    },
    "language_info": {
      "name": "python"
    }
  },
  "cells": [
    {
      "cell_type": "markdown",
      "source": [
        "#SEHH2239 2022/2023 Semester 2\n",
        "#Assignment 2\n",
        "--- \n",
        "1.   Student name: Chan Lok Hin\n",
        "2.   Student ID: 21088958A\n",
        "3.   Course code: SEHH2239\n",
        "4.   Course name: Data Structures\n",
        "5.   Class: 203D\n",
        "6.   Date:\n"
      ],
      "metadata": {
        "id": "_ttZLeUpzcdU"
      }
    },
    {
      "cell_type": "markdown",
      "source": [
        "#Declaration of Original Work\n",
        "\n",
        "\n",
        "\n",
        "---\n",
        "\n",
        "\n",
        "By submitting the answer script of this assignment to the subject lecturer through Moodle Centralized Group, you hereby declare that the work in the answer sheet is completely your own work.  No part of the answer sheet is taken from other people’s work without giving them credit.  All references have been clearly cited.\n",
        "\n",
        "You understand that an infringement of this declaration leaves you subject to disciplinary actions such as mark deduction, disqualification or even expulsion by the College. \n",
        "\n",
        "If necessary, students may be invited to provide more information on their submission. "
      ],
      "metadata": {
        "id": "5XyFo6bIE_FB"
      }
    },
    {
      "cell_type": "markdown",
      "source": [
        "---\n",
        "# Question 1\n",
        "\n",
        "### Question 1(a)"
      ],
      "metadata": {
        "id": "wjJ3eoTwd9nO"
      }
    },
    {
      "cell_type": "code",
      "source": [
        "class Stack:\n",
        "    # Write your code for Question 1(a) here\n",
        "    def __init__(self) :\n",
        "        pass\n",
        "        # implement a stack using list\n",
        "        self.items = []\n",
        "\n",
        "    def clear(self):\n",
        "        pass\n",
        "        # clear the stack\n",
        "        self.items = []\n",
        "\n",
        "    def isEmpty(self):\n",
        "        pass\n",
        "        # Check if the stack is empty\n",
        "        # return True if the stack is empty\n",
        "        # otherwise return False\n",
        "        return len(self.items) == 0\n",
        "\n",
        "    def push(self, data):\n",
        "        pass\n",
        "        # Put data on the top of the stack\n",
        "        self.items.append(data)\n",
        "        \n",
        "\n",
        "    def pop(self):\n",
        "        pass\n",
        "        # Take the topmost data from the stack and return it\n",
        "        # if the stack is empty, return None\n",
        "        if self.isEmpty():\n",
        "            return None\n",
        "        else:\n",
        "            return self.items.pop()\n",
        "\n",
        "    def peek(self):\n",
        "        pass\n",
        "        # Return the topmost data in the stack\n",
        "        # without removing it\n",
        "        # if the stack is empty, return None\n",
        "        if self.isEmpty():\n",
        "            return None\n",
        "        else:\n",
        "            return self.items[-1]\n",
        "\n",
        "\n",
        "    def display(self):\n",
        "        pass\n",
        "        # show all the data in the stack\n",
        "        print(self.items)\n",
        "\n",
        "# test\n",
        "list = [1,2,3,4,5]\n",
        "stack = Stack()\n",
        "\n",
        "for x in list:\n",
        "  stack.push(x)\n",
        "\n",
        "stack.display()\n",
        "\n",
        "print(stack.isEmpty())\n",
        "\n",
        "print(stack.peek())\n",
        "\n",
        "print(stack.pop())\n",
        "\n",
        "print(stack.peek())\n",
        "\n",
        "stack.display()\n",
        "\n",
        "stack.clear()\n",
        "\n",
        "stack.display()\n",
        "\n",
        "print(stack.isEmpty())\n",
        "\n",
        "print(stack.pop())\n",
        "\n",
        "print(stack.peek())"
      ],
      "metadata": {
        "id": "nErnFM9MdWeP",
        "colab": {
          "base_uri": "https://localhost:8080/"
        },
        "outputId": "6981e959-247a-4a6c-892e-7b59daf740ef"
      },
      "execution_count": 21,
      "outputs": [
        {
          "output_type": "stream",
          "name": "stdout",
          "text": [
            "[1, 2, 3, 4, 5]\n",
            "False\n",
            "5\n",
            "5\n",
            "4\n",
            "[1, 2, 3, 4]\n",
            "[]\n",
            "True\n",
            "None\n",
            "None\n"
          ]
        }
      ]
    },
    {
      "cell_type": "markdown",
      "source": [
        "### Question 1(b)\n"
      ],
      "metadata": {
        "id": "LGYOT2Tgepf_"
      }
    },
    {
      "cell_type": "code",
      "source": [
        "class Student:\n",
        "    def __init__(self,name,score):\n",
        "        self.name = name\n",
        "        self.score = score\n",
        "    def __str__(self):\n",
        "        return f\"{self.name}:{self.score}\"\n",
        "    def __repr__(self):\n",
        "        return str(self)\n",
        "    def __eq__(self,other):\n",
        "        return (self.score == other.score and self.name == other.name)\n",
        "    def __gt__(self,other):\n",
        "        if (self.score == other.score):\n",
        "            return self.name > other.name\n",
        "        else:\n",
        "            return self.score > other.score\n",
        "    def __lt__(self,other):\n",
        "        if (self.score == other.score):\n",
        "            return self.name < other.name\n",
        "        else:\n",
        "            return self.score < other.score\n",
        "    def __ge__(self,other):\n",
        "        return (not self < other)\n",
        "    def __le__(self,other):\n",
        "        return (not self > other)"
      ],
      "metadata": {
        "id": "Wmp9mm_-er95"
      },
      "execution_count": 22,
      "outputs": []
    },
    {
      "cell_type": "code",
      "source": [
        "class StackSort:\n",
        "    # Write your code for Question 1(b) here\n",
        "    def __init__(self,data):\n",
        "        pass\n",
        "        # define two Stack\n",
        "        # the first Stack contains all the elements in data\n",
        "        # and the second Stack left empty\n",
        "        self.stack1 = data\n",
        "        self.stack2 = []                                                                                                                                                                                                                                                                                                                                                                                                                                                                                                         \n",
        "\n",
        "    def sort(self):\n",
        "        pass\n",
        "        # sort the elements in the first Stack as follows:\n",
        "        # While the first Stack is not empty, do this:\n",
        "        # - Pop an element from the first Stack and call it temp\n",
        "        # - While the second Stack is not empty and\n",
        "        #   top of the second stack is greater than temp:\n",
        "        #     - Pop from the second Stack and\n",
        "        #       push it to the first Stack\n",
        "        # - Push temp to the second Stack\n",
        "        # the sorted elements are in second Stack\n",
        "        while self.stack1:\n",
        "          temp = self.stack1.pop()          \n",
        "          while self.stack2 and self.stack2[-1] > temp:            \n",
        "            self.stack1.append(self.stack2.pop())            \n",
        "          self.stack2.append(temp)\n",
        "\n",
        "    def display(self):\n",
        "        pass\n",
        "        # show the data in two Stacks\n",
        "        if self.stack2 == []:\n",
        "          print(self.stack1)\n",
        "        else:\n",
        "          print(self.stack2)"
      ],
      "metadata": {
        "id": "bdlOXPaTfUzi"
      },
      "execution_count": 23,
      "outputs": []
    },
    {
      "cell_type": "markdown",
      "source": [
        "### Question 1(c)\n",
        "\n",
        "Testing code for part (c): *(run the code cell below to generate outputs, do not alter the code in the cell)*"
      ],
      "metadata": {
        "id": "zpI-hkktfz_u"
      }
    },
    {
      "cell_type": "code",
      "source": [
        "data = [Student(\"May\",85),Student(\"Peter\",30),Student(\"Louis\",90),\n",
        "Student(\"Frankie\",30),Student(\"Ron\",74)]\n",
        "data1 = [Student(\"May\",100),Student(\"Peter\",90),Student(\"Louis\",80),\n",
        "Student(\"Frankie\",70),Student(\"Ron\",60)]\n",
        "stackSort = StackSort(data)\n",
        "print(\"Before stack sort:\")\n",
        "stackSort.display()\n",
        "stackSort.sort()\n",
        "print(\"After stack sort:\")\n",
        "stackSort.display()"
      ],
      "metadata": {
        "id": "dGi7rKAFgDuI",
        "colab": {
          "base_uri": "https://localhost:8080/"
        },
        "outputId": "1542f0dc-f302-4772-9e79-c9ff4885b6e2"
      },
      "execution_count": 24,
      "outputs": [
        {
          "output_type": "stream",
          "name": "stdout",
          "text": [
            "Before stack sort:\n",
            "[May:85, Peter:30, Louis:90, Frankie:30, Ron:74]\n",
            "After stack sort:\n",
            "[Frankie:30, Peter:30, Ron:74, May:85, Louis:90]\n"
          ]
        }
      ]
    },
    {
      "cell_type": "markdown",
      "source": [
        "### Provide **THREE** more testing cases for question 1(c)"
      ],
      "metadata": {
        "id": "7urpCXxpgGfo"
      }
    },
    {
      "cell_type": "code",
      "source": [
        "# Write your testing code for Question 1(c) here\n",
        "print('Test1:')\n",
        "data1 = [Student(\"May\",100),Student(\"Peter\",90),Student(\"Louis\",80),\n",
        "Student(\"Frankie\",70),Student(\"Ron\",60)]\n",
        "stackSort = StackSort(data1)\n",
        "print(\"Before stack sort:\")\n",
        "stackSort.display()\n",
        "stackSort.sort()\n",
        "print(\"After stack sort:\")\n",
        "stackSort.display()\n",
        "\n",
        "print('\\nTest2:')\n",
        "data2 = [Student(\"May\",0),Student(\"Peter\",10),Student(\"Louis\",20),\n",
        "Student(\"Frankie\",30),Student(\"Ron\",40)]\n",
        "stackSort = StackSort(data2)\n",
        "print(\"Before stack sort:\")\n",
        "stackSort.display()\n",
        "stackSort.sort()\n",
        "print(\"After stack sort:\")\n",
        "stackSort.display()\n",
        "\n",
        "print('\\nTest3:')\n",
        "data3 = []\n",
        "stackSort = StackSort(data)\n",
        "print(\"Before stack sort:\")\n",
        "stackSort.display()\n",
        "stackSort.sort()\n",
        "print(\"After stack sort:\")\n",
        "stackSort.display()\n"
      ],
      "metadata": {
        "id": "shxIgqP8gX-W",
        "colab": {
          "base_uri": "https://localhost:8080/"
        },
        "outputId": "564a7498-76cb-41e4-a487-2392c5f93440"
      },
      "execution_count": 28,
      "outputs": [
        {
          "output_type": "stream",
          "name": "stdout",
          "text": [
            "Test1:\n",
            "Before stack sort:\n",
            "[May:100, Peter:90, Louis:80, Frankie:70, Ron:60]\n",
            "After stack sort:\n",
            "[Ron:60, Frankie:70, Louis:80, Peter:90, May:100]\n",
            "\n",
            "Test2:\n",
            "Before stack sort:\n",
            "[May:0, Peter:10, Louis:20, Frankie:30, Ron:40]\n",
            "After stack sort:\n",
            "[May:0, Peter:10, Louis:20, Frankie:30, Ron:40]\n",
            "\n",
            "Test3:\n",
            "Before stack sort:\n",
            "[]\n",
            "After stack sort:\n",
            "[]\n"
          ]
        }
      ]
    },
    {
      "cell_type": "markdown",
      "source": [
        "### Question 1(d)\n",
        "\n",
        "*Put down your answer for Question 1(d) here*\n",
        "\n",
        "O(n^2), it's nested while loop.\n",
        "\n",
        "Double-click (or enter) to edit"
      ],
      "metadata": {
        "id": "Xj8f5nHigtWE"
      }
    },
    {
      "cell_type": "markdown",
      "source": [
        "---\n",
        "# Question 2\n",
        "\n",
        "### Question 2(a)\n",
        "*Put down your answer for Question 2(a) here*\n",
        "\n",
        "Double-click (or enter) to edit\n",
        "\n",
        "\\begin{array}{|c|c|} \\hline\n",
        "Index & Value \\\\ \\hline\n",
        "0 & Empty \\\\ \\hline\n",
        "1 & Empty \\\\ \\hline\n",
        "2 & Empty \\\\ \\hline\n",
        "3 & Empty \\\\ \\hline\n",
        "4 & 58(d)->85(f) \\\\ \\hline\n",
        "5 & 95(c) \\\\ \\hline\n",
        "6 & Empty \\\\ \\hline\n",
        "7 & 88(a)->89(e)->98(g) \\\\ \\hline\n",
        "8 & 89(b) \\\\ \\hline\n",
        "\\end{array}\n"
      ],
      "metadata": {
        "id": "FUG-yy1yd9Q1"
      }
    },
    {
      "cell_type": "markdown",
      "source": [
        "### Question 2(b)\n",
        "*Put down your answer for Question 2(b) here*\n",
        "\n",
        "Double-click (or enter) to edit\n",
        "\n",
        "\\begin{array}{|c|c|} \\hline\n",
        "Index & Value \\\\ \\hline\n",
        "0 & 89(e) \\\\ \\hline\n",
        "1 & 98(g) \\\\ \\hline\n",
        "2 & Empty \\\\ \\hline\n",
        "3 & Empty \\\\ \\hline\n",
        "4 & 58(d) \\\\ \\hline\n",
        "5 & 95(c) \\\\ \\hline\n",
        "6 & 85(f) \\\\ \\hline\n",
        "7 & 88(a) \\\\ \\hline\n",
        "8 & 89(b) \\\\ \\hline\n",
        "\\end{array}"
      ],
      "metadata": {
        "id": "qyHbr0h2l5wk"
      }
    },
    {
      "cell_type": "markdown",
      "source": [
        "### Question 2(c)\n",
        "*Put down your answer for Question 2(c) here*\n",
        "\n",
        "We cannot simply make the slot as empty, because this will isolate records further down the probe sequence, and it would hinder later searches.<br>For example, when put 'e' after 'b' is deleted, since 'Empty' still occupties the space, 'e' would be in [0] instead of [8]<br>Solution: Do a local reorganization upon deletion to try to shorten the average path length. For example, after deleting a key, continue to follow the probe sequence of that key and swap records further down the probe sequence into the slot of the recently deleted record.\n",
        "\n",
        "Double-click (or enter) to edit"
      ],
      "metadata": {
        "id": "YHeKO-B8mA61"
      }
    },
    {
      "cell_type": "markdown",
      "source": [
        "\n",
        "\n",
        "---\n",
        "\n",
        "\n",
        "# Provided Classes (for Questions 3 & 4)"
      ],
      "metadata": {
        "id": "Yg2PdrP1VPHX"
      }
    },
    {
      "cell_type": "markdown",
      "source": [
        "### Run the following code block to define some classes before running other code"
      ],
      "metadata": {
        "id": "CKfyTMukWQQ-"
      }
    },
    {
      "cell_type": "code",
      "source": [
        "class LLNode:\n",
        "    def __init__(self, element=None, node=None):\n",
        "        self.element = element\n",
        "        self.next = node\n",
        "\n",
        "class SLinkedList:\n",
        "    def __init__(self):\n",
        "        self.head = None\n",
        "\n",
        "    def listprint(self):\n",
        "        p = self.head\n",
        "        while p is not None:\n",
        "            print(p.element)\n",
        "            p = p.next\n",
        "    \n",
        "    def isEmpty(self):\n",
        "        return self.head is None\n",
        "    \n",
        "    def size(self):\n",
        "        size = 0\n",
        "        p = self.head\n",
        "        while p is not None:\n",
        "            size += 1\n",
        "            p = p.next\n",
        "        return size\n",
        "\n",
        "    def get(self, index):\n",
        "        p = self.head\n",
        "        i = 0\n",
        "        while p is not None and i < index:\n",
        "            p = p.next\n",
        "            i += 1\n",
        "        if p is not None:\n",
        "            return p.element\n",
        "        else:   # index >= self.size()\n",
        "            return None\n",
        "    \n",
        "    def indexOf(self, element):\n",
        "        p = self.head\n",
        "        i = 0\n",
        "        while p is not None and p.element != element:\n",
        "            p = p.next\n",
        "            i += 1\n",
        "        if p is not None:\n",
        "            return i\n",
        "        else:\n",
        "            return -1\n",
        "    \n",
        "    def addAtHead(self, element):\n",
        "        self.head = LLNode(element, self.head)\n",
        "    \n",
        "    def addAtTail(self, element):\n",
        "        if self.head is None:\n",
        "            self.head = LLNode(element)\n",
        "        else:\n",
        "            p = self.head\n",
        "            while p.next is not None:\n",
        "                p = p.next\n",
        "            p.next = LLNode(element)\n",
        "    \n",
        "    def add(self, index, element):\n",
        "        if index == 0:\n",
        "            self.addAtHead(element)\n",
        "        else:\n",
        "            p = self.head\n",
        "            i = 0\n",
        "            while p is not None and i < index - 1:\n",
        "                p = p.next\n",
        "                i += 1\n",
        "            \n",
        "            # The following statement will raise an error if index > self.size()\n",
        "            p.next = LLNode(element, p.next)\n",
        "\n",
        "    def remove(self, index):\n",
        "        if self.isEmpty():\n",
        "            return None\n",
        "        if index == 0:\n",
        "            element = self.head.element\n",
        "            self.head = self.head.next\n",
        "            return element\n",
        "        else:\n",
        "            p = self.head\n",
        "            i = 0\n",
        "            while p is not None and i < index:\n",
        "                prev = p\n",
        "                p = p.next\n",
        "                i += 1\n",
        "\n",
        "            if p is None:\n",
        "                return None\n",
        "            \n",
        "            element = p.element\n",
        "            prev.next = p.next\n",
        "            return element\n",
        "    \n",
        "    def removeNode(self, element):\n",
        "        if self.isEmpty():\n",
        "            return None\n",
        "        p = self.head\n",
        "        if p.element == element:\n",
        "            self.head = p.next\n",
        "        else:\n",
        "            while p is not None and p.element != element:\n",
        "                prev = p\n",
        "                p = p.next\n",
        "            if p is not None:\n",
        "                prev.next = p.next\n",
        "\n",
        "class BSTNode:\n",
        "    def __init__(self, key, data):\n",
        "        self.left = None\n",
        "        self.right = None\n",
        "        self.key = key\n",
        "        self.data = data\n",
        "\n",
        "    # A utility function to search a given key in BST\n",
        "    def get(self, key):\n",
        "        p = self\n",
        "\n",
        "        while p is not None:\n",
        "            if p.key < key:\n",
        "                p = p.right\n",
        "            elif p.key > key:\n",
        "                p = p.left\n",
        "            else:\n",
        "                return p.data\n",
        "\n",
        "        # no matching key\n",
        "        return None\n",
        "\n",
        "    def put(self, key, data):\n",
        "        # Compare the new value with the parent node\n",
        "        if self.key:\n",
        "            if key < self.key:\n",
        "                if self.left is None:\n",
        "                    self.left = BSTNode(key, data)\n",
        "                else:\n",
        "                    self.left.put(key, data)\n",
        "            elif key > self.key:\n",
        "                if self.right is None:\n",
        "                    self.right = BSTNode(key, data)\n",
        "                else:\n",
        "                    self.right.put(key, data)\n",
        "        else:\n",
        "            self.key = key\n",
        "            self.data = data\n",
        "\n",
        "    # To find the inorder successor which is the smallest node in the subtree\n",
        "    def findsuccessor(self, node):\n",
        "        current_node = node\n",
        "        while current_node.left is not None:\n",
        "            current_node = current_node.left\n",
        "        return current_node\n",
        "\n",
        "    def remove(self, root, key):\n",
        "        # Base Case\n",
        "        if root is None:\n",
        "            return root\n",
        "\n",
        "        # If the key to be deleted is smaller than the root's key then it lies in left subtree\n",
        "        if key < root.key:\n",
        "            root.left = self.remove(root.left, key)\n",
        "\n",
        "        # If the kye to be delete is greater than the root's key then it lies in right subtree\n",
        "        elif key > root.key:\n",
        "            root.right = self.remove(root.right, key)\n",
        "\n",
        "        # If key is same as root's key, then this is the node to be deleted\n",
        "        else:\n",
        "            # Node with only one child or no child\n",
        "            if root.left is None:\n",
        "                temp = root.right\n",
        "                root = None\n",
        "                return temp\n",
        "\n",
        "            elif root.right is None:\n",
        "                temp = root.left\n",
        "                root = None\n",
        "                return temp\n",
        "\n",
        "            # Node with two children:\n",
        "            # Get the inorder successor (smallest in the right subtree)\n",
        "            temp = self.findsuccessor(root.right)\n",
        "\n",
        "            # Copy the inorder successor's content to this node\n",
        "            root.key = temp.key\n",
        "            root.data = temp.data   # copy by assignment\n",
        "\n",
        "            # Delete the inorder successor\n",
        "            root.right = self.remove(root.right, temp.key)\n",
        "\n",
        "        return root\n",
        "\n",
        "    # Print the tree\n",
        "    def PrintTree(self):\n",
        "        if self.left:\n",
        "            self.left.PrintTree()\n",
        "        print(self.key, self.data),\n",
        "        if self.right:\n",
        "            self.right.PrintTree()"
      ],
      "metadata": {
        "id": "2B8UlacQVSMn"
      },
      "execution_count": 38,
      "outputs": []
    },
    {
      "cell_type": "markdown",
      "source": [
        "\n",
        "\n",
        "---\n",
        "\n",
        "\n",
        "# Question 3"
      ],
      "metadata": {
        "id": "iJzytP6lFfEp"
      }
    },
    {
      "cell_type": "markdown",
      "source": [
        "### Question 3(a)"
      ],
      "metadata": {
        "id": "ivN9cS2UW75O"
      }
    },
    {
      "cell_type": "code",
      "source": [
        "import re"
      ],
      "metadata": {
        "id": "qT-NVxyattVN"
      },
      "execution_count": 39,
      "outputs": []
    },
    {
      "cell_type": "code",
      "execution_count": 40,
      "metadata": {
        "id": "_OqV_S5r9jKJ"
      },
      "outputs": [],
      "source": [
        "class Student:\n",
        "    # Write your code for Question 3(a) here\n",
        "    pass\n",
        "\n",
        "    def __init__(self, name=str, studentid=str):\n",
        "      if re.fullmatch('[0-9]{8}A', studentid) is None:\n",
        "        raise Exception(f'Invalid student id {studentid}')\n",
        "      else:      \n",
        "        self.name = name\n",
        "        self.studentid = studentid\n",
        "\n",
        "    def __str__(self):\n",
        "      return f\"Name: {self.name}, ID: {self.studentid}\"\n",
        "\n",
        "    def __eq__(self, other):\n",
        "      if isinstance(other, Student):\n",
        "        return self.studentid == other.studentid           \n",
        "      else:\n",
        "        raise Exception('Invalid data type!')\n",
        "        "
      ]
    },
    {
      "cell_type": "markdown",
      "source": [
        "**Testing code for part (a)**: (run the code cell below to generate outputs, do not alter the code in the cell)"
      ],
      "metadata": {
        "id": "4gEn07m_Wttu"
      }
    },
    {
      "cell_type": "code",
      "source": [
        "student1 = Student('Dear Jane', '21666666A')\n",
        "student2 = Student('Ka Yan 9896', '21009896A')\n",
        "student3 = Student('Dear Jane', '21666666A')\n",
        "try:\n",
        "    Student('Quit gambling', '1834633')\n",
        "except Exception as e:\n",
        "    print(e)\n",
        "print(student1)\n",
        "print(student2)\n",
        "print(student1 == student2)\n",
        "print(student1 == student3)\n",
        "try:\n",
        "    print(student1 == 'Dear Jane')\n",
        "except Exception as e:\n",
        "    print(e)"
      ],
      "metadata": {
        "id": "nnd1LwVG9zIQ",
        "colab": {
          "base_uri": "https://localhost:8080/"
        },
        "outputId": "c07888d0-1c92-435e-8116-5db1ea89c578"
      },
      "execution_count": 41,
      "outputs": [
        {
          "output_type": "stream",
          "name": "stdout",
          "text": [
            "Invalid student id 1834633\n",
            "Name: Dear Jane, ID: 21666666A\n",
            "Name: Ka Yan 9896, ID: 21009896A\n",
            "False\n",
            "True\n",
            "Invalid data type!\n"
          ]
        }
      ]
    },
    {
      "cell_type": "markdown",
      "source": [
        "### Question 3(b)"
      ],
      "metadata": {
        "id": "9gCjFxPa_c4S"
      }
    },
    {
      "cell_type": "code",
      "source": [
        "class Registry:\n",
        "    def __init__(self):\n",
        "        self.BSTList = [None] * 10   # List of 10 BSTs\n",
        "    \n",
        "    # Question 3(b)\n",
        "    def add_student(self, name=str, studentid=str):\n",
        "        # Write your code for Question 3(b) here\n",
        "        pass\n",
        "        if re.fullmatch('[0-9]{8}A', studentid) is None:\n",
        "          print(f'Invalid student id {studentid}')\n",
        "        elif self.BSTList[int(studentid[-2])] != None:\n",
        "          print(f'{name} {studentid} has already registered.')\n",
        "        else:\n",
        "          self.BSTList[int(studentid[-2])] = BSTNode(studentid, Student(name, studentid))\n",
        "          print(f'Register {name} {studentid} successful.')\n",
        "    \n",
        "    # The following function is provided\n",
        "    def print_students(self):\n",
        "        for i, BST in enumerate(self.BSTList):\n",
        "            if BST is not None:\n",
        "                print(f'Students with ID ended with {i}:')\n",
        "                BST.PrintTree()"
      ],
      "metadata": {
        "id": "y_nwZ-lWXIy2"
      },
      "execution_count": 42,
      "outputs": []
    },
    {
      "cell_type": "markdown",
      "source": [
        "**Testing code for part (b)**: (run the code cell below to generate outputs, do not alter the code in the cell)"
      ],
      "metadata": {
        "id": "y3pLfBrqGLhd"
      }
    },
    {
      "cell_type": "code",
      "source": [
        "student_records = [\n",
        "    {'name': 'Chan Ka Yi', 'studentid': '21123456A'},\n",
        "    {'name': 'So Fun Nei', 'studentid': '21888888A'},\n",
        "    {'name': 'Ngor Mo Chin', 'studentid': '21654321A'}\n",
        "]\n",
        "\n",
        "registry = Registry()\n",
        "for student_record in student_records:\n",
        "    registry.add_student(**student_record)\n",
        "print()\n",
        "registry.add_student('SC Storage', '81777778')\n",
        "print()\n",
        "registry.add_student(**student_records[0])\n",
        "print()\n",
        "registry.print_students()"
      ],
      "metadata": {
        "id": "QSKNFeuFX1ZF",
        "colab": {
          "base_uri": "https://localhost:8080/"
        },
        "outputId": "e847f5c1-69a5-4db9-dc50-9e744185f756"
      },
      "execution_count": 43,
      "outputs": [
        {
          "output_type": "stream",
          "name": "stdout",
          "text": [
            "Register Chan Ka Yi 21123456A successful.\n",
            "Register So Fun Nei 21888888A successful.\n",
            "Register Ngor Mo Chin 21654321A successful.\n",
            "\n",
            "Invalid student id 81777778\n",
            "\n",
            "Chan Ka Yi 21123456A has already registered.\n",
            "\n",
            "Students with ID ended with 1:\n",
            "21654321A Name: Ngor Mo Chin, ID: 21654321A\n",
            "Students with ID ended with 6:\n",
            "21123456A Name: Chan Ka Yi, ID: 21123456A\n",
            "Students with ID ended with 8:\n",
            "21888888A Name: So Fun Nei, ID: 21888888A\n"
          ]
        }
      ]
    },
    {
      "cell_type": "markdown",
      "source": [
        "\n",
        "\n",
        "---\n",
        "\n",
        "# Question 4"
      ],
      "metadata": {
        "id": "KVE3sgXKGUFA"
      }
    },
    {
      "cell_type": "markdown",
      "source": [
        "### Question 4(a)"
      ],
      "metadata": {
        "id": "hDcORVPtYmxm"
      }
    },
    {
      "cell_type": "code",
      "source": [
        "class Student:\n",
        "    pass\n",
        "    # Write your code for Question 4(a) here\n",
        "    def __init__(self, name=str, studentid=str):\n",
        "      self.name = name\n",
        "      self.studentid = studentid\n",
        "      self._courselist = SLinkedList()\n",
        "\n"
      ],
      "metadata": {
        "id": "r_VwAdET-HyQ"
      },
      "execution_count": 44,
      "outputs": []
    },
    {
      "cell_type": "markdown",
      "source": [
        "**Testing code for part (a)**: (run the code cell below to generate outputs, do not alter the code in the cell)"
      ],
      "metadata": {
        "id": "WQdJ8jZOZkD2"
      }
    },
    {
      "cell_type": "code",
      "source": [
        "student1 = Student(\"Black Pink\", \"21732534A\")\n",
        "student1._courselist.addAtTail(\"SEHH2239\")\n",
        "student1._courselist.addAtTail(\"SEHH2240\")\n",
        "student1._courselist.listprint()"
      ],
      "metadata": {
        "id": "JMJXKCDvZlKe",
        "colab": {
          "base_uri": "https://localhost:8080/"
        },
        "outputId": "1be76325-345b-4a58-fdba-4c80f648575a"
      },
      "execution_count": 45,
      "outputs": [
        {
          "output_type": "stream",
          "name": "stdout",
          "text": [
            "SEHH2239\n",
            "SEHH2240\n"
          ]
        }
      ]
    },
    {
      "cell_type": "markdown",
      "source": [
        "### Question 4(b)"
      ],
      "metadata": {
        "id": "27BS1oMkZs7m"
      }
    },
    {
      "cell_type": "code",
      "source": [
        "class Registry2(Registry):\n",
        "    def __init__(self):\n",
        "        super().__init__()\n",
        "    \n",
        "    # Question 4(b)\n",
        "    def add_course(self, studentid=str, course=str):\n",
        "        pass\n",
        "        # Write your code for Question 4(b) here        \n",
        "        if re.fullmatch('[0-9]{8}A', studentid) is None:\n",
        "            print (f'Invalid student id {studentid}')\n",
        "        else:\n",
        "          tree_id = int(studentid[-2])\n",
        "          BST = self.BSTList[tree_id]\n",
        "          student = BST.get(studentid) if BST is not None else None\n",
        "          if student is None:\n",
        "            print(f'{studentid} not a registered student')\n",
        "            return\n",
        "          else:\n",
        "            if student._courselist.indexOf(course) != -1:\n",
        "              print(f'{student.name} {student.studentid} has already enrolled {course}')\n",
        "            else:\n",
        "              student._courselist.addAtTail(course)\n",
        "              print(f'Enroll {student.name} {student.studentid} to {course} successful.')\n",
        " \n",
        "    # The following function is provided\n",
        "    def print_courses(self, studentid):\n",
        "        if not isinstance(studentid, str):\n",
        "            raise TypeError('Invalid input type')\n",
        "        if re.fullmatch('[0-9]{8}A', studentid) is None:\n",
        "            raise ValueError(f'Invalid student id {studentid}')\n",
        "\n",
        "        tree_id = int(studentid[-2])\n",
        "        BST = self.BSTList[tree_id]\n",
        "        student = BST.get(studentid) if BST is not None else None\n",
        "        if student is None:\n",
        "            print(f'{studentid} not a registered student')\n",
        "            return\n",
        "        else:\n",
        "            print(f'{student.name} {student.studentid} enrolled these courses:')\n",
        "            student._courselist.listprint()"
      ],
      "metadata": {
        "id": "Cnszx-4h_CSM"
      },
      "execution_count": 48,
      "outputs": []
    },
    {
      "cell_type": "markdown",
      "source": [
        "**Testing code for part (b):** (run the code cell below to generate outputs, do not alter the code in the cell)"
      ],
      "metadata": {
        "id": "iMzixhuxaSW2"
      }
    },
    {
      "cell_type": "code",
      "source": [
        "student_records = [\n",
        "    {'name': 'Chan Ka Yi', 'studentid': '21123456A'},\n",
        "    {'name': 'So Fun Nei', 'studentid': '21888888A'},\n",
        "    {'name': 'Ngor Mo Chin', 'studentid': '21654321A'}\n",
        "]\n",
        "\n",
        "course_records = [\n",
        "    {'studentid': '21123456A', 'course': 'SEHH2239'},\n",
        "    {'studentid': '21888888A', 'course': 'SEHH2239'},\n",
        "    {'studentid': '21654321A', 'course': 'SEHH2240'},\n",
        "    {'studentid': '21654321A', 'course': 'SEHH2241'},\n",
        "]\n",
        "\n",
        "registry = Registry2()\n",
        "for student_record in student_records:\n",
        "    registry.add_student(**student_record)\n",
        "print()\n",
        "\n",
        "for course_record in course_records:\n",
        "    registry.add_course(**course_record)\n",
        "\n",
        "print()\n",
        "registry.add_course('XDJCNDEG', 'Random string')\n",
        "registry.add_course('23000000A', 'Pizza Hut Hotline')\n",
        "registry.add_course(**course_records[0])\n",
        "\n",
        "print()\n",
        "registry.print_courses('21654321A')"
      ],
      "metadata": {
        "id": "lJ_aV1iDaU_O",
        "colab": {
          "base_uri": "https://localhost:8080/"
        },
        "outputId": "9c25fa57-506e-452a-be8c-6fd91b426933"
      },
      "execution_count": 49,
      "outputs": [
        {
          "output_type": "stream",
          "name": "stdout",
          "text": [
            "Register Chan Ka Yi 21123456A successful.\n",
            "Register So Fun Nei 21888888A successful.\n",
            "Register Ngor Mo Chin 21654321A successful.\n",
            "\n",
            "Enroll Chan Ka Yi 21123456A to SEHH2239 successful.\n",
            "Enroll So Fun Nei 21888888A to SEHH2239 successful.\n",
            "Enroll Ngor Mo Chin 21654321A to SEHH2240 successful.\n",
            "Enroll Ngor Mo Chin 21654321A to SEHH2241 successful.\n",
            "\n",
            "Invalid student id XDJCNDEG\n",
            "23000000A not a registered student\n",
            "Chan Ka Yi 21123456A has already enrolled SEHH2239\n",
            "\n",
            "Ngor Mo Chin 21654321A enrolled these courses:\n",
            "SEHH2240\n",
            "SEHH2241\n"
          ]
        }
      ]
    },
    {
      "cell_type": "markdown",
      "source": [
        "### Question 4(c)"
      ],
      "metadata": {
        "id": "01w9VGXUaANF"
      }
    },
    {
      "cell_type": "markdown",
      "source": [
        "(i) *Put down your answer for Question 4(c)(i) here*<br>\n",
        "\n",
        "Time complexity: O(n), need to check all the student once.<br>\n",
        "\n",
        "(ii) *Put down your answer for Question 4(c)(ii) here*<br>\n",
        "\n",
        "Give a count of students enrolled in a class, when the time of finding the student reach the count, stop running the program.<br>\n",
        "\n",
        "Double-click (or enter) to edit"
      ],
      "metadata": {
        "id": "xs1O0SVtaCdO"
      }
    },
    {
      "cell_type": "markdown",
      "source": [
        "---\n",
        "<font size=\"5\" color='red'>When you finish the assignment:</font>\n",
        "* Click [Runtime -> Restart and run all] to regenerate all outputs\n",
        "* Click [File -> Download -> Download .ipynb]\n",
        "* Click [File -> Print -> Save as PDF]\n",
        "* Follow the instructions on the question paper to submit both files"
      ],
      "metadata": {
        "id": "sJpPVVoLa7Re"
      }
    }
  ]
}